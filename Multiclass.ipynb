{
 "cells": [
  {
   "cell_type": "code",
   "execution_count": 9,
   "metadata": {},
   "outputs": [
    {
     "name": "stdout",
     "output_type": "stream",
     "text": [
      "(150, 7)\n"
     ]
    }
   ],
   "source": [
    "import numpy\n",
    "file = 'iris.data.csv'\n",
    "raw_data = open(file, 'rt')\n",
    "data = numpy.loadtxt(raw_data, delimiter=\",\")\n",
    "print(data.shape)"
   ]
  },
  {
   "cell_type": "code",
   "execution_count": 36,
   "metadata": {},
   "outputs": [
    {
     "data": {
      "text/plain": [
       "(150, 5)"
      ]
     },
     "execution_count": 36,
     "metadata": {},
     "output_type": "execute_result"
    }
   ],
   "source": [
    "#seperate attributes and class\n",
    "x = data[:,0:4]\n",
    "y = data[:,4:7]\n",
    "#add ones to x\n",
    "x = numpy.append(x,numpy.ones((150,1)),1)\n",
    "x.shape"
   ]
  },
  {
   "cell_type": "code",
   "execution_count": 174,
   "metadata": {},
   "outputs": [],
   "source": [
    "#seperate training,test and validation data\n",
    "xtrain = numpy.vstack([x[0:30,:],x[50:80,:],x[100:130,:]])\n",
    "ytrain =  numpy.vstack([y[0:30,:],y[50:80,:],y[100:130,:]])\n",
    "xvalidation = numpy.vstack([x[30:40,:],x[80:90,:],x[130:140,:]])\n",
    "yvalidation = numpy.vstack([y[30:40,:],y[80:90,:],y[130:140,:]])\n",
    "xtest = numpy.vstack([x[40:50,:],x[90:100,:],x[140:150,:]])\n",
    "ytest = numpy.vstack([y[40:50,:],y[90:100,:],y[140:150,:]])"
   ]
  },
  {
   "cell_type": "code",
   "execution_count": 175,
   "metadata": {},
   "outputs": [
    {
     "data": {
      "text/plain": [
       "(30, 3)"
      ]
     },
     "execution_count": 175,
     "metadata": {},
     "output_type": "execute_result"
    }
   ],
   "source": [
    "temp = xtrain\n",
    "xtrain = xtest\n",
    "xtest = temp\n",
    "xtrain.shape\n",
    "temp1 = ytrain\n",
    "ytrain = ytest\n",
    "ytest = temp1\n",
    "ytrain.shape"
   ]
  },
  {
   "cell_type": "code",
   "execution_count": 186,
   "metadata": {},
   "outputs": [
    {
     "data": {
      "text/plain": [
       "(5, 3)"
      ]
     },
     "execution_count": 186,
     "metadata": {},
     "output_type": "execute_result"
    }
   ],
   "source": [
    "#weight matrix calculation\n",
    "lamda = 10\n",
    "w = numpy.dot(xtrain.T,ytrain)\n",
    "w1 = numpy.dot(xtrain.T,xtrain) + lamda*numpy.identity(5)\n",
    "w2 = numpy.linalg.inv(w1)\n",
    "weightmatrix = numpy.dot(w2,w)\n",
    "weightmatrix.shape"
   ]
  },
  {
   "cell_type": "code",
   "execution_count": 187,
   "metadata": {},
   "outputs": [
    {
     "data": {
      "text/plain": [
       "24"
      ]
     },
     "execution_count": 187,
     "metadata": {},
     "output_type": "execute_result"
    }
   ],
   "source": [
    "#tuning for optimal lambda\n",
    "hit = 0\n",
    "for i in range(30):\n",
    "    test = numpy.dot(weightmatrix.T,xvalidation[i,:].T)\n",
    "    index = numpy.argmax(test)\n",
    "    if(yvalidation[i,index]==1):\n",
    "         hit = hit+1\n",
    "hit"
   ]
  },
  {
   "cell_type": "code",
   "execution_count": 188,
   "metadata": {},
   "outputs": [
    {
     "data": {
      "text/plain": [
       "74"
      ]
     },
     "execution_count": 188,
     "metadata": {},
     "output_type": "execute_result"
    }
   ],
   "source": [
    "#testing on testdata\n",
    "hit1 = 0\n",
    "for i in range(90):\n",
    "    test = numpy.dot(weightmatrix.T,xtest[i,:].T)\n",
    "    index = numpy.argmax(test)\n",
    "    if(ytest[i,index]==1):\n",
    "        hit1 = hit1+1\n",
    "hit1"
   ]
  }
 ],
 "metadata": {
  "kernelspec": {
   "display_name": "Python 3",
   "language": "python",
   "name": "python3"
  },
  "language_info": {
   "codemirror_mode": {
    "name": "ipython",
    "version": 3
   },
   "file_extension": ".py",
   "mimetype": "text/x-python",
   "name": "python",
   "nbconvert_exporter": "python",
   "pygments_lexer": "ipython3",
   "version": "3.6.6"
  }
 },
 "nbformat": 4,
 "nbformat_minor": 2
}
